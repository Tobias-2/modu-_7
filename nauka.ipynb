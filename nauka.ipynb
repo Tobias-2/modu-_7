{
 "cells": [
  {
   "cell_type": "markdown",
   "id": "af727172-2863-4c0c-a998-24cb9c3ffc3b",
   "metadata": {},
   "source": [
    "My addition function"
   ]
  },
  {
   "cell_type": "code",
   "execution_count": 9,
   "id": "55ab7e37-dda7-4cd8-bab5-197432f6dcca",
   "metadata": {},
   "outputs": [],
   "source": [
    "def addition(x,y):\n",
    "    t = x + y\n",
    "    print(t)"
   ]
  },
  {
   "cell_type": "code",
   "execution_count": 10,
   "id": "79a28b3e-d84d-409b-8e32-c2039224ac8e",
   "metadata": {},
   "outputs": [
    {
     "name": "stdout",
     "output_type": "stream",
     "text": [
      "8\n"
     ]
    }
   ],
   "source": [
    "addition(2,6)\n"
   ]
  },
  {
   "cell_type": "raw",
   "id": "b839b122-841d-4647-86e1-9fb4536a7761",
   "metadata": {},
   "source": [
    "#1"
   ]
  }
 ],
 "metadata": {
  "kernelspec": {
   "display_name": "Python 3 (ipykernel)",
   "language": "python",
   "name": "python3"
  },
  "language_info": {
   "codemirror_mode": {
    "name": "ipython",
    "version": 3
   },
   "file_extension": ".py",
   "mimetype": "text/x-python",
   "name": "python",
   "nbconvert_exporter": "python",
   "pygments_lexer": "ipython3",
   "version": "3.12.5"
  }
 },
 "nbformat": 4,
 "nbformat_minor": 5
}
